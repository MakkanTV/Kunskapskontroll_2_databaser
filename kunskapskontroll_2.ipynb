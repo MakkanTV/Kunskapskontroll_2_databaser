{
  "cells": [
    {
      "cell_type": "markdown",
      "metadata": {},
      "source": [
        "DATA24HEL_DBT25/Databastyper\n",
        "# Kunskapskontroll 2\n",
        "\n",
        "Gör kurserna i den här samlingen: [https://learn.microsoft.com/en-us/collections/3140s6twkorq6z?&sharingId=A70F2DF98827F6CC](https://learn.microsoft.com/en-us/collections/3140s6twkorq6z?&sharingId=A70F2DF98827F6CC)\n",
        "\n",
        "### OBS! Du behöver __inte__ göra *exercises*!\n",
        "\n",
        "Svara på frågorna nedan. Eftersom kurserna är på engelska har jag skrivit även frågorna på engelska. Det går bra att svara på svenska eller engelska.\n"
      ]
    },
    {
      "cell_type": "markdown",
      "metadata": {},
      "source": [
        "---\n",
        "## Microsoft Azure Data Fundamentals: Explore core data concepts\n",
        "### Explore core data concepts\n",
        "#### Identify data formats\n",
        "\n",
        "❓ What data format is often represented as JSON?"
      ]
    },
    {
      "cell_type": "markdown",
      "metadata": {},
      "source": [
        "✔️ Answer: JSON (JavaScript Object Notation) används ofta för att representera semi-strukturerad data, såsom hierarkisk data i nyckel-värde-par."
      ]
    },
    {
      "cell_type": "markdown",
      "metadata": {},
      "source": [
        "❓ What data format is represented in a tabular format?"
      ]
    },
    {
      "cell_type": "markdown",
      "metadata": {},
      "source": [
        "✔️ Answer: Det är data som är struktuerad som en tabell, oftast med rader och kolumer. \n",
        "\n",
        "\n",
        "CSV: Med en textfil som separeras med ett kommatecken, \n",
        "\n",
        "JSON: Måste var formaterat so en array av \"dictionaries\", XLS som används av excel användare, \n",
        "\n",
        "SQL-tabeller eller Pandas i python kan också upprättas som tabeller. "
      ]
    },
    {
      "cell_type": "markdown",
      "metadata": {},
      "source": [
        "❓ What is the data format of images, pdf-documents and binary files called?"
      ]
    },
    {
      "cell_type": "markdown",
      "metadata": {},
      "source": [
        "✔️ Answer: \n",
        "\n",
        "Bilder: JPEG, PNG, GIF, BMP, TIFF\n",
        "\n",
        "PDF-dokument: PDF (Portable Document Format)\n",
        "\n",
        "Binära filer: EXE, DLL, ZIP, MP3, MP4"
      ]
    },
    {
      "cell_type": "markdown",
      "metadata": {},
      "source": [
        "#### Explore file storage\n"
      ]
    },
    {
      "cell_type": "markdown",
      "metadata": {},
      "source": [
        "❓ Give an example of an optimized file format for structured and semi-structured data."
      ]
    },
    {
      "cell_type": "markdown",
      "metadata": {},
      "source": [
        "✔️ Answer: \n",
        "\n",
        "Azure Databricks: En big data-analystjänst optimerad för bearbetning av Parquet- och ORC-filer. Använder Apache Spark för att analysera strukturerad och semi-strukturerad data i stor skala.\n",
        "\n",
        "zure Blob Storage: Kan lagra Parquet, ORC, Avro och JSON-filer. Används för arkivering, backup och analysarbetsbelastningar.\n",
        "\n",
        "Azure Data Lake Storage: Stöder Parquet, ORC, Avro och JSON för effektiv big data-lagring. Optimerad för analys, data lakes och maskininlärning.\n",
        "\n",
        "Azure Synapse Analytics: Kan direkt fråga Parquet- och ORC-filer i Azure Data Lake Storage utan att behöva ladda in dem i en databas."
      ]
    },
    {
      "cell_type": "markdown",
      "metadata": {},
      "source": [
        "#### Explore transactional data processing\n",
        "❓ What are OLTP systems designed for?\n"
      ]
    },
    {
      "cell_type": "markdown",
      "metadata": {},
      "source": [
        "✔️ Answer: OLTP (Online Transaction Processing)-system är utformade för snabba, realtidsbaserade transaktioner, såsom banktjänster, e-handel och lagerhantering. De är bäst lämpade för många användare som hanterar små eller enkla transaktioner.\n",
        "\n",
        "OLTP (Online Transaction Processing)-system är utformade för snabba, realtidsbaserade transaktioner, såsom banktjänster, e-handel och lagerhantering. De är bäst lämpade för många användare som hanterar små eller enkla transaktioner.\n",
        "\n",
        "Azure SQL Database är ett lämpligt program för detta."
      ]
    },
    {
      "cell_type": "markdown",
      "metadata": {},
      "source": [
        "#### Explore analytical data processing\n",
        "❓ What are OLAP systems designed for?\n"
      ]
    },
    {
      "cell_type": "markdown",
      "metadata": {},
      "source": [
        "✔️ Answer: OLAP (Online Analytical Processing) är ett system som är utformat för avancerade analyser och komplexa frågor oftas inom datalager och business intelligence. De är bäst lämpade för färre användare och hantering av stora eller komplexa transaktioner.\n",
        "\n",
        "Azure Analysis Services är ett lämpat pogram för detta. "
      ]
    },
    {
      "cell_type": "markdown",
      "metadata": {},
      "source": [
        "### Explore data roles and services\n",
        "#### Explore job roles in the world of data\n",
        "\n",
        "❓Describe some of the responsibilities of a:\n",
        "\n",
        "* Database Administrator\n",
        "* Data Engineer\n",
        "* Data Analyst"
      ]
    },
    {
      "cell_type": "markdown",
      "metadata": {},
      "source": [
        "✔️ Answer:\n",
        "\n",
        "Databasadministratör (DBA): Hanterar databaser, säkerställer prestanda, säkerhet, säkerhetskopiering och återställning.\n",
        "\n",
        "Dataingenjör: Bygger och underhåller datapipelines, optimerar lagring och integrerar datakällor.\n",
        "\n",
        "Dataanalytiker: Analyserar data, utför frågor, visualiserar resultat och stödjer beslutsfattande."
      ]
    },
    {
      "cell_type": "markdown",
      "metadata": {},
      "source": [
        "---\n",
        "## Microsoft Azure Data Fundamentals: Explore relational data in Azure\n",
        "### Explore fundamental relational data concepts\n",
        "\n",
        "❓ How is relational data commonly organized?"
      ]
    },
    {
      "cell_type": "markdown",
      "metadata": {},
      "source": [
        "✔️ Answer: Relationsdata organiseras vanligtvis i tabeller med rader och kolumner, där primärnycklar, främmande nycklar och normalisering används för att upprätthålla relationer"
      ]
    },
    {
      "cell_type": "markdown",
      "metadata": {},
      "source": [
        "❓ What are the main reasons for normalizing relational data?"
      ]
    },
    {
      "cell_type": "markdown",
      "metadata": {},
      "source": [
        "✔️ Answer: De främsta anledningarna till att normalisera relationsdata är:\n",
        "\n",
        "Eliminera dataduplicering\n",
        "\n",
        "Säkerställa dataintegritet\n",
        "\n",
        "Förbättra konsistens och effektivitet i frågor"
      ]
    },
    {
      "cell_type": "markdown",
      "metadata": {},
      "source": [
        "### Explore relational database services in Azure\n",
        "\n",
        "❓ Which of the Azure SQL services requires you to manage configuration, backups, and other maintenance tasks yourself?"
      ]
    },
    {
      "cell_type": "markdown",
      "metadata": {},
      "source": [
        "✔️ Answer: Azure SQL Virtual Machines (SQL Server på Azure Virtual Machines) kräver att du själv hanterar konfiguration, säkerhetskopiering och underhåll."
      ]
    },
    {
      "cell_type": "markdown",
      "metadata": {},
      "source": [
        "---\n",
        "## Microsoft Azure Data Fundamentals: Explore non-relational data in Azure\n",
        "### Explore Azure blob storage\n",
        "\n",
        "❓ What are the three types of blob that Azure Blob Storage supports?"
      ]
    },
    {
      "cell_type": "markdown",
      "metadata": {},
      "source": [
        "✔️ Answer: Blockblobbar\n",
        "En blockblob hanteras som en uppsättning block. Varje block kan ha en storlek på upp till 4000 MiB, och en blockblob kan innehålla upp till 190,7 TiB (4000 MiB × 50 000 block), vilket ger en maximal storlek på över 5000 MiB. Blocket är den minsta datamängden som kan läsas eller skrivas som en enskild enhet. Blockblobbar används bäst för att lagra stora, separata, binära objekt som ändras sällan.\n",
        "\n",
        "Pageblobbar\n",
        "En pageblob är organiserad som en samling av fasta 512-byte sidor. Den är optimerad för att stödja slumpmässiga läs- och skrivoperationer, vilket innebär att du kan hämta och lagra data för en enskild sida vid behov. En pageblob kan lagra upp till 8 TB data. Azure använder pageblobbar för att implementera virtuella diskar för virtuella maskiner.\n",
        "\n",
        "Appendblobbar\n",
        "En appendblob är en blockblob som är optimerad för att lägga till data i slutet av filen. Du kan endast lägga till block i slutet av en appendblob – det är inte möjligt att uppdatera eller ta bort befintliga block. Varje block kan ha en storlek på upp till 4 MB, och den maximala storleken för en appendblob är strax över 195 GB."
      ]
    },
    {
      "cell_type": "markdown",
      "metadata": {},
      "source": [
        "### Explore fundamentals of Azure Cosmos DB\n",
        "#### Describe Azure Cosmos DB\n",
        "\n",
        "❓ Which data storage scenarios are Azure Cosmos DB suitable for? "
      ]
    },
    {
      "cell_type": "markdown",
      "metadata": {},
      "source": [
        "✔️ Answer: Azure Cosmos DB är en globalt distribuerad, multi-modell databas som är utformad för att hantera höga prestandakrav, låg latens och hög tillgänglighet. Den passar särskilt bra för scenarios där applikationer behöver snabb och skalbar datalagring utan att vara begränsade av en traditionell relationsdatabas.\n",
        "\n",
        "En av de främsta användningsområdena för Cosmos DB är applikationer som kräver extremt låg svarstid och hög prestanda, till exempel realtidsapplikationer inom IoT, gaming och bedrägeridetektering. Eftersom databasen erbjuder global distribution och automatisk replikering i flera regioner är den också idealisk för globala applikationer, som e-handelsplattformar och sociala medietjänster, där användarna är utspridda över hela världen och förväntar sig en konsekvent och snabb upplevelse."
      ]
    },
    {
      "cell_type": "markdown",
      "metadata": {},
      "source": [
        "#### Identify Azure Cosmos DB API\n",
        "\n",
        "❓ With Azure Cosmos DB for NoSQL you can use SQL syntax to make queries to a NoSQL database, but how are the results formatted?"
      ]
    },
    {
      "cell_type": "markdown",
      "metadata": {},
      "source": [
        "✔️ Answer: När du använder Azure Cosmos DB för NoSQL och dokumentdatabaser kan du skriva frågor med SQL-syntax, men resultaten returneras i JSON-format. Varje fråga genererar en samling JSON-objekt där varje objekt representerar ett dokument i databasen."
      ]
    },
    {
      "cell_type": "markdown",
      "metadata": {},
      "source": [
        "---\n",
        "## Explore fundamentals of large-scale analytics\n",
        "### Explore analytical data stores\n"
      ]
    },
    {
      "cell_type": "markdown",
      "metadata": {},
      "source": [
        "\n",
        "❓ What kind of analytical data store should you choose when you have structured data?"
      ]
    },
    {
      "cell_type": "markdown",
      "metadata": {},
      "source": [
        "✔️ Answer: Om du har strukturerad data och behöver en analytisk datalagring i Azure, är Data warehouses eller Data lakes bra alternativ att välja. "
      ]
    },
    {
      "cell_type": "markdown",
      "metadata": {},
      "source": [
        "❓ What kind of analytical data store should you choose when you have a mix of structured, semi-structured and unstructured data?"
      ]
    },
    {
      "cell_type": "markdown",
      "metadata": {},
      "source": [
        "✔️ Answer: Det ska vara Microsoft Azure Data Lake som kan hantera alla typer av data, inklusive CSV, JSON, Avro, Parquet, bilder, videor och loggfiler."
      ]
    },
    {
      "cell_type": "markdown",
      "metadata": {},
      "source": [
        "❓ What is a hybrid data store that combines features of data lakes and data warehouses called?"
      ]
    },
    {
      "cell_type": "markdown",
      "metadata": {},
      "source": [
        "✔️ Answer: Fabric kombinerar flera Azure-tjänster, inklusive Azure Data Lake, Azure Synapse Analytics och Power BI, i en sammanhållen plattform. Det gör det enkelt att hantera, analysera och visualisera data från olika källor utan att behöva sätta upp flera separata system. Det kallas oftast Lakehouse. Ett Lakehouse erbjuder flexibiliteten och skalbarheten hos en data lake för att hantera ostrukturerad och semi-strukturerad data, samtidigt som det har den prestanda och styrning som ett data warehouse ger för strukturerad data och SQL-baserad analys."
      ]
    },
    {
      "cell_type": "markdown",
      "metadata": {},
      "source": [
        "---\n",
        "## Store Data in Azure\n",
        "### Choose a data storage apporach in Azure\n",
        "#### Classify your data"
      ]
    },
    {
      "cell_type": "markdown",
      "metadata": {},
      "source": [
        "❓ How is business data classified?"
      ]
    },
    {
      "cell_type": "markdown",
      "metadata": {},
      "source": [
        "✔️ Answer: Affärsanalytiker vill implementera business intelligence för att genomföra utvärderingar av lagerflöden och granskningar av försäljningsdata. För att kunna utföra dessa analyser måste data från flera månader aggregeras och sedan frågas. Eftersom det är nödvändigt att jämföra liknande data över tid, måste datan vara strukturerad så att en månad kan jämföras med nästa.\n",
        "\n",
        "Klassificeringen för affärsdata är strukturerad.\n"
      ]
    },
    {
      "cell_type": "markdown",
      "metadata": {},
      "source": [
        "\n",
        "❓ How is data for a product catalog classified?"
      ]
    },
    {
      "cell_type": "markdown",
      "metadata": {},
      "source": [
        "✔️ Answer: Produktkatalogdata för en e-handelsverksamhet är semi-strukturerad. Varje produkt har ett SKU, en beskrivning, kvantitet, pris, storleks- och färgalternativ samt media som bilder eller videor. Inledningsvis verkar datan relationsbaserad, men vid tillägg av nya produkter kan behovet av extra fält uppstå.\n",
        "\n",
        "Till exempel kan nya löparskor ha Bluetooth för att skicka sensordata till en träningsapp. Istället för att uppdatera alla befintliga produkter med ett \"Bluetooth-enabled\"-fält, läggs det endast till på relevanta produkter. Om detta är en enskild förändring kan datan normaliseras för att förbli strukturerad. Men om fler specialfält planeras framöver, blir datan semi-strukturerad, där taggar organiserar informationen och varje produkt kan ha unika fält.\n",
        "\n",
        "Klassificeringen för produktkatalogdata är semi-strukturerad.\n"
      ]
    },
    {
      "cell_type": "markdown",
      "metadata": {},
      "source": [
        "❓ How is data representing photos and videos classified?"
      ]
    },
    {
      "cell_type": "markdown",
      "metadata": {},
      "source": [
        "✔️ Answer: Data som representerar foton och videor klassificeras som ostrukturerad data.\n"
      ]
    },
    {
      "cell_type": "markdown",
      "metadata": {},
      "source": [
        "#### Group multiple operations in a transaction\n",
        "\n",
        "❓ What is ACID?"
      ]
    },
    {
      "cell_type": "markdown",
      "metadata": {},
      "source": [
        "✔️ Answer: ACID står för atomicitet, konsistens, isolering och beständighet och säkerställer tillförlitliga databastransaktioner.\n"
      ]
    },
    {
      "cell_type": "markdown",
      "metadata": {},
      "source": [
        "❓ Which of the three datasets (product catalog, photos and videos, business data) is transactional?"
      ]
    },
    {
      "cell_type": "markdown",
      "metadata": {},
      "source": [
        "✔️ Answer: Produktkatalogdata är transaktionell eftersom den hanterar real­tidsuppdateringar, köp och lagerhantering.\n"
      ]
    },
    {
      "cell_type": "markdown",
      "metadata": {},
      "source": [
        "#### Choose a storage solution in Azure"
      ]
    },
    {
      "cell_type": "markdown",
      "metadata": {},
      "source": [
        "❓ What is the recommended service for a semi-structured dataset that needs a high number of both read and write operations?"
      ]
    },
    {
      "cell_type": "markdown",
      "metadata": {},
      "source": [
        "✔️ Answer: För en semi-strukturerad datamängd som kräver ett stort antal läs och skrivoperationer rekommenderas Azure Cosmos DB som går ihop med api så som MongoDB, Cassandra och Gremlin.\n"
      ]
    },
    {
      "cell_type": "markdown",
      "metadata": {},
      "source": [
        "❓ What is the recommended service for a structured dataset that will be used for analytical purposes only?"
      ]
    },
    {
      "cell_type": "markdown",
      "metadata": {},
      "source": [
        "✔️ Answer: För en strukturerad datamängd som enbart ska användas för analytiska ändamål rekommenderas Azure Synapse Analytics och den fungerar ihop med Power BI, Azure Data Lake och AI-tjänster för avancerad analys och rapportering.\n"
      ]
    },
    {
      "cell_type": "markdown",
      "metadata": {},
      "source": [
        "### Create an Azure Storage Account\n",
        "#### Decide how many storage accounts you need"
      ]
    },
    {
      "cell_type": "markdown",
      "metadata": {},
      "source": [
        "❓ What is the difference between Hot and Cold access tiers?"
      ]
    },
    {
      "cell_type": "markdown",
      "metadata": {},
      "source": [
        "✔️ Answer: Hot-åtkomstlagret används för data som frekvent nås medan Cold-åtkomstlagret är för sällan använd data med lägre lagringskostnader."
      ]
    },
    {
      "cell_type": "markdown",
      "metadata": {},
      "source": [
        "#### Choose your account settings"
      ]
    },
    {
      "cell_type": "markdown",
      "metadata": {},
      "source": [
        "❓ When creating an Azure Storage Account, which deployment model should you choose?"
      ]
    },
    {
      "cell_type": "markdown",
      "metadata": {},
      "source": [
        "✔️ Answer: När du skapar ett Azure Storage Account ska du välja Resource Manager-distributionsmodellen eftersom det är det moderna och rekommenderade valet.\n"
      ]
    },
    {
      "cell_type": "markdown",
      "metadata": {},
      "source": [
        "#### Choose an account creation tool"
      ]
    },
    {
      "cell_type": "markdown",
      "metadata": {},
      "source": [
        "❓ The most commonly used account creation tool is the Azure Portal. Why?"
      ]
    },
    {
      "cell_type": "markdown",
      "metadata": {},
      "source": [
        "✔️ Answer: Eftersom den erbjuder ett användarvänligt gränssnitt. Gör det enkelt att konfigurera inställningar och ger direkt åtkomst till alla Azure-tjänster utan att kräva kommandoradsverktyg eller skript.\n"
      ]
    },
    {
      "cell_type": "markdown",
      "metadata": {},
      "source": [
        "### Secure your Azure Storage account\n",
        "#### Explore Azure Storage security features"
      ]
    },
    {
      "cell_type": "markdown",
      "metadata": {},
      "source": [
        "❓ How do you disable encryption at rest?"
      ]
    },
    {
      "cell_type": "markdown",
      "metadata": {},
      "source": [
        "✔️ Answer: \"Kryptering i vila\" går inte inaktiveras i Azure Storage, den är alltid aktiverad som standard av säkerhetsskäl.\n"
      ]
    },
    {
      "cell_type": "markdown",
      "metadata": {},
      "source": [
        "❓ What happens if you require *secure transfer* for your storage account?"
      ]
    },
    {
      "cell_type": "markdown",
      "metadata": {},
      "source": [
        "✔️ Answer: Om du kräver säker överföring för ditt Azure Storage Account måste all kommunikation med lagringen ske via HTTPS. Att ansluta med HTTP kommer att nekas, då det skyddar data under överföring mot avlyssning och manipulation.\n"
      ]
    },
    {
      "cell_type": "markdown",
      "metadata": {},
      "source": [
        "❓ What is CORS?"
      ]
    },
    {
      "cell_type": "markdown",
      "metadata": {},
      "source": [
        "✔️ Answer: CORS (Cross-Origin Resource Sharing) är en säkerhetsmekanism som styr åtkomst till Azure Storage från olika domäner. Den är nödvändig när en webbapplikation på en domän behöver komma åt resurser, såsom blobs, som finns på en annan domän.\n"
      ]
    },
    {
      "cell_type": "markdown",
      "metadata": {},
      "source": [
        "❓ Which Azure service can you use to audit accesses to your data?"
      ]
    },
    {
      "cell_type": "markdown",
      "metadata": {},
      "source": [
        "✔️ Answer: Azure Monitor och Azure Storage Logging övervakar åtkomst och ändringar i data.\n",
        "Azure Defender for Storage identifierar avvikelser och potentiella säkerhetshot.\n"
      ]
    },
    {
      "cell_type": "markdown",
      "metadata": {},
      "source": [
        "#### Understand storage account keys"
      ]
    },
    {
      "cell_type": "markdown",
      "metadata": {},
      "source": [
        "❓ Which authentication option is the best for Blob and Queue storage?"
      ]
    },
    {
      "cell_type": "markdown",
      "metadata": {},
      "source": [
        "✔️ Answer: Azure AD (Azure Active Directory) erbjuder den säkrast autentiseringen.\n",
        "Ett alternativ är Shared Access Signatures (SAS) som ger tillfällig åtkomst till resurser.\n"
      ]
    },
    {
      "cell_type": "markdown",
      "metadata": {},
      "source": [
        "#### Understand shared access signatures (SAS)"
      ]
    },
    {
      "cell_type": "markdown",
      "metadata": {},
      "source": [
        "❓ What are the two levels of SAS?"
      ]
    },
    {
      "cell_type": "markdown",
      "metadata": {},
      "source": [
        "✔️ Answer: \n",
        "\n",
        " Konto-nivå SAS ger åtkomst till flera tjänster, såsom Blobs, Queues, Tables och Files. \n",
        "\n",
        "Tjänst-nivå SAS ger åtkomst till en specifik tjänst. tex endast Blob Storage.\n"
      ]
    },
    {
      "cell_type": "markdown",
      "metadata": {},
      "source": [
        "#### Control network access to your storage account"
      ]
    },
    {
      "cell_type": "markdown",
      "metadata": {},
      "source": [
        "❓ What must you do before you change the default network access action from *grant* to *deny*?"
      ]
    },
    {
      "cell_type": "markdown",
      "metadata": {},
      "source": [
        "✔️ Answer: Konfigurera nätverksregler för att säkerställa att behöriga tjänster och användare fortfarande har åtkomst.\n",
        "Tillåta specifika IP-adresser, virtuella nätverk eller privata länkar som behöver ansluta till resursen.\n",
        "\n"
      ]
    },
    {
      "cell_type": "markdown",
      "metadata": {},
      "source": [
        "### Store application data with Azure Blob Storage\n",
        "#### What are blobs?"
      ]
    },
    {
      "cell_type": "markdown",
      "metadata": {},
      "source": [
        "❓ What kind of data can't be stored as a blob?"
      ]
    },
    {
      "cell_type": "markdown",
      "metadata": {},
      "source": [
        "✔️ Answer: Strukturerad och relationsbaserad data som ofta uppdateras lagras bäst i en databas.\n"
      ]
    },
    {
      "cell_type": "markdown",
      "metadata": {},
      "source": [
        "❓ What kind of data shouldn't be stored as a blob?"
      ]
    },
    {
      "cell_type": "markdown",
      "metadata": {},
      "source": [
        "✔️ Answer: Data som inte ska lagras är Högtransaktionell data, såsom finansiella transaktioner och lageruppdateringar.\n",
        "Små och ofta uppdaterade poster, som lämpar sig bättre för en databas."
      ]
    },
    {
      "cell_type": "markdown",
      "metadata": {},
      "source": [
        "---\n",
        "## Integrate data with Azure Data Factory or Azure Synapse Pipeline\n",
        "### Understand Azure Data Factory"
      ]
    },
    {
      "cell_type": "markdown",
      "metadata": {},
      "source": [
        "❓ Which part of the symphony orchestra does Azure Data Factory play, according to the analogy?"
      ]
    },
    {
      "cell_type": "markdown",
      "metadata": {},
      "source": [
        "✔️ Answer: Den fungerar som en dirigent och styr dataflöden och transformationer.\n"
      ]
    },
    {
      "cell_type": "markdown",
      "metadata": {},
      "source": [
        "#### Describe data integration patterns"
      ]
    },
    {
      "cell_type": "markdown",
      "metadata": {},
      "source": [
        "❓ What does ETL stand for?"
      ]
    },
    {
      "cell_type": "markdown",
      "metadata": {},
      "source": [
        "✔️ Answer: Extract - Transform - Load (ETL) innebär att data transformeras innan den laddas in i målsystemet.\n"
      ]
    },
    {
      "cell_type": "markdown",
      "metadata": {},
      "source": [
        "❓ What does ELT stand for?"
      ]
    },
    {
      "cell_type": "markdown",
      "metadata": {},
      "source": [
        "✔️ Answer: Extract - Load - Transform (ELT) innebär att data först laddas in i datalagret och därefter transformeras.\n"
      ]
    },
    {
      "cell_type": "markdown",
      "metadata": {},
      "source": [
        "❓ What is the difference between ETL and ELT?"
      ]
    },
    {
      "cell_type": "markdown",
      "metadata": {},
      "source": [
        "✔️ Answer: \n",
        "\n",
        "ETL används i traditionella datalager, där transformeringen sker innan datan laddas in.\n",
        "\n",
        "ELT används i moderna molnbaserade system, där transformeringen sker efter inladdning.\n"
      ]
    },
    {
      "cell_type": "markdown",
      "metadata": {},
      "source": [
        "#### Create Data Factory activities and pipelines"
      ]
    },
    {
      "cell_type": "markdown",
      "metadata": {},
      "source": [
        "❓ Which are the three categories of Azure Data factory activities?"
      ]
    },
    {
      "cell_type": "markdown",
      "metadata": {},
      "source": [
        "✔️ Answer: \n",
        "\n",
        "Dataförflyttningsaktiviteter: Kopiera data mellan olika källor.\n",
        "\n",
        "Datatransformationsaktiviteter: Modifiera eller bearbeta data.\n",
        "\n",
        "Kontrollaktiviteter: Orkestrera arbetsflödeslogik.\n"
      ]
    },
    {
      "cell_type": "markdown",
      "metadata": {},
      "source": [
        "---\n",
        "## Large-scale data processing with Azure Data Lake Storage Gen2\n",
        "### Introduction to Azure Data Lake Storage Gen2\n",
        "#### Understand Azure Data Lake Storage Gen2"
      ]
    },
    {
      "cell_type": "markdown",
      "metadata": {},
      "source": [
        "❓ Which format is data stored in in a data lake?"
      ]
    },
    {
      "cell_type": "markdown",
      "metadata": {},
      "source": [
        "✔️ Answer: Data i en Data Lake lagras i format som ORC, Avro, JSON, CSV och parquet och råa filer.\n"
      ]
    },
    {
      "cell_type": "markdown",
      "metadata": {},
      "source": [
        "❓ Which factors should influence the planning of a data lake?"
      ]
    },
    {
      "cell_type": "markdown",
      "metadata": {},
      "source": [
        "✔️ Answer: Dessa fyra faktornera är inflyttande på en data lake:\n",
        "\n",
        "Datastyrning: Säkerhet och åtkomstkontroll.\n",
        "\n",
        "Dataorganisation: Mappstruktur och partitionering.\n",
        "\n",
        "Prestanda: Indexering och cachestrategier.\n",
        "\n",
        "Kostnadsoptimering: Lagringsnivåer och komprimering."
      ]
    },
    {
      "cell_type": "markdown",
      "metadata": {},
      "source": [
        "#### Enable Azure Data Lake storage Gen2 in Azure Storage"
      ]
    },
    {
      "cell_type": "markdown",
      "metadata": {},
      "source": [
        "❓ What is the name of the option that enables Azure Data Lake Storage Gen2?"
      ]
    },
    {
      "cell_type": "markdown",
      "metadata": {},
      "source": [
        "✔️ Answer: Hierarkiskt namnrymd och möjliggör en mappstruktur för snabbare åtkomst.\n"
      ]
    },
    {
      "cell_type": "markdown",
      "metadata": {},
      "source": [
        "#### Compare Azure Data Lake Storage and Azure Blob storage"
      ]
    },
    {
      "cell_type": "markdown",
      "metadata": {},
      "source": [
        "❓ What is the main difference between Azure Data Lake Storage and Azure Blob storage?"
      ]
    },
    {
      "cell_type": "markdown",
      "metadata": {},
      "source": [
        "✔️ Answer: \n",
        "\n",
        "Azure Data Lake Storage är optimerad för big data-analys och använder hierarkisk namnrymd som sagt.\n",
        "\n",
        "Azure Blob Storage är mer optimerad för allmän ostrukturerad lagring, såsom backup och mediafiler\n"
      ]
    },
    {
      "cell_type": "markdown",
      "metadata": {},
      "source": [
        "❓ What kind of storage account should you use to store website assets such as images and videos?"
      ]
    },
    {
      "cell_type": "markdown",
      "metadata": {},
      "source": [
        "✔️ Answer: Azure Blob Storage (Hot-tier) som erbjuder snabb åtkomst för frekvent använd data.\n"
      ]
    },
    {
      "cell_type": "markdown",
      "metadata": {},
      "source": [
        "❓ What kind of storage account should you use to store data that you wih to perform analytics on?"
      ]
    },
    {
      "cell_type": "markdown",
      "metadata": {},
      "source": [
        "✔️ Answer: Azure Data Lake Storage (ADLS Gen2) som är mer optimerad för big data-analys och effektiva dataflöden.\n"
      ]
    },
    {
      "cell_type": "markdown",
      "metadata": {},
      "source": [
        "#### Use Azure Data Lake Storage Gen2 in data analytics workloads"
      ]
    },
    {
      "cell_type": "markdown",
      "metadata": {},
      "source": [
        "❓ What are the three \"v's\" that are involved when processing big data?"
      ]
    },
    {
      "cell_type": "markdown",
      "metadata": {},
      "source": [
        "✔️ Answer: De tre \"V:na\" inom Big Data är:\n",
        "\n",
        "Volym: stora mängder data.\n",
        "\n",
        "Variation: olika datatyper: strukturerad, semi-strukturerad och ostrukturerad.\n",
        "\n",
        "Hastighet: snabb databehandling.\n"
      ]
    }
  ],
  "metadata": {
    "kernelspec": {
      "display_name": ".venv",
      "language": "python",
      "name": "python3"
    },
    "language_info": {
      "name": "python",
      "version": "3.13.1"
    }
  },
  "nbformat": 4,
  "nbformat_minor": 4
}
